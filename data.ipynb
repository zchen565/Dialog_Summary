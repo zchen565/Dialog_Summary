{
 "cells": [
  {
   "cell_type": "code",
   "execution_count": 1,
   "metadata": {},
   "outputs": [
    {
     "name": "stderr",
     "output_type": "stream",
     "text": [
      "/home/zihao/.local/lib/python3.10/site-packages/tqdm/auto.py:22: TqdmWarning: IProgress not found. Please update jupyter and ipywidgets. See https://ipywidgets.readthedocs.io/en/stable/user_install.html\n",
      "  from .autonotebook import tqdm as notebook_tqdm\n"
     ]
    }
   ],
   "source": [
    "from datasets import load_dataset\n",
    "\n",
    "dialogsum = load_dataset(\"knkarthick/dialogsum\")"
   ]
  },
  {
   "cell_type": "code",
   "execution_count": 9,
   "metadata": {},
   "outputs": [],
   "source": [
    "for t in dialogsum[\"train\"]:\n",
    "    if \"Detective Chief\" in t[\"dialogue\"]:\n",
    "        print(t[\"dialogue\"])\n",
    "        print(t[\"summary\"])"
   ]
  },
  {
   "cell_type": "code",
   "execution_count": 5,
   "metadata": {},
   "outputs": [
    {
     "data": {
      "text/plain": [
       "\"Mr. Smith's getting a check-up, and Doctor Hawkins advises him to have one every year. Hawkins'll give some information about their classes and medications to help Mr. Smith quit smoking.\""
      ]
     },
     "execution_count": 5,
     "metadata": {},
     "output_type": "execute_result"
    }
   ],
   "source": [
    "dialogsum[\"train\"][0][\"summary\"]"
   ]
  },
  {
   "cell_type": "code",
   "execution_count": 11,
   "metadata": {},
   "outputs": [
    {
     "data": {
      "text/plain": [
       "dict_keys(['id', 'dialogue', 'summary', 'topic'])"
      ]
     },
     "execution_count": 11,
     "metadata": {},
     "output_type": "execute_result"
    }
   ],
   "source": [
    "dialogsum[\"train\"][0]"
   ]
  },
  {
   "cell_type": "code",
   "execution_count": 9,
   "metadata": {},
   "outputs": [
    {
     "name": "stdout",
     "output_type": "stream",
     "text": [
      "Total length of dialogs: 9198985\n",
      "Average length of a dialog: 738.2813001605136\n"
     ]
    }
   ],
   "source": [
    "dialog_lengths = [len(item[\"dialogue\"]) for item in dialogsum[\"train\"]]\n",
    "\n",
    "total_length = sum(dialog_lengths)\n",
    "\n",
    "average_length = total_length / len(dialog_lengths)\n",
    "\n",
    "print(f\"Total length of dialogs: {total_length}\")\n",
    "print(f\"Average length of a dialog: {average_length}\")"
   ]
  },
  {
   "cell_type": "code",
   "execution_count": 12,
   "metadata": {},
   "outputs": [
    {
     "name": "stdout",
     "output_type": "stream",
     "text": [
      "Total length of summary: 1753540\n",
      "Average length of a summary: 140.7335473515249\n"
     ]
    }
   ],
   "source": [
    "summary_lengths = [len(item[\"summary\"]) for item in dialogsum[\"train\"]]\n",
    "\n",
    "total_length = sum(summary_lengths)\n",
    "\n",
    "average_length = total_length / len(summary_lengths)\n",
    "\n",
    "print(f\"Total length of summary: {total_length}\")\n",
    "print(f\"Average length of a summary: {average_length}\")"
   ]
  },
  {
   "cell_type": "code",
   "execution_count": 14,
   "metadata": {},
   "outputs": [
    {
     "name": "stderr",
     "output_type": "stream",
     "text": [
      "Downloading data: 100%|██████████| 2.94M/2.94M [00:00<00:00, 22.0MB/s]\n",
      "Generating train split: 100%|██████████| 14732/14732 [00:00<00:00, 21500.14 examples/s]\n",
      "Generating test split: 100%|██████████| 819/819 [00:00<00:00, 3594.76 examples/s]\n",
      "Generating validation split: 100%|██████████| 818/818 [00:00<00:00, 3204.55 examples/s]\n"
     ]
    }
   ],
   "source": [
    "samsum = load_dataset(\"samsum\")"
   ]
  },
  {
   "cell_type": "code",
   "execution_count": 16,
   "metadata": {},
   "outputs": [
    {
     "name": "stdout",
     "output_type": "stream",
     "text": [
      "Total length of dialogs: 7530757\n",
      "Average length of a dialog: 511.18361390171054\n",
      "Total length of summary: 1622504\n",
      "Average length of a summary: 110.13467282106978\n"
     ]
    }
   ],
   "source": [
    "\n",
    "dialog_lengths = [len(item[\"dialogue\"]) for item in samsum[\"train\"]]\n",
    "\n",
    "total_length = sum(dialog_lengths)\n",
    "\n",
    "average_length = total_length / len(dialog_lengths)\n",
    "\n",
    "print(f\"Total length of dialogs: {total_length}\")\n",
    "print(f\"Average length of a dialog: {average_length}\")\n",
    "summary_lengths = [len(item[\"summary\"]) for item in samsum[\"train\"]]\n",
    "\n",
    "total_length = sum(summary_lengths)\n",
    "\n",
    "average_length = total_length / len(summary_lengths)\n",
    "\n",
    "print(f\"Total length of summary: {total_length}\")\n",
    "print(f\"Average length of a summary: {average_length}\")"
   ]
  }
 ],
 "metadata": {
  "kernelspec": {
   "display_name": "Python 3",
   "language": "python",
   "name": "python3"
  },
  "language_info": {
   "codemirror_mode": {
    "name": "ipython",
    "version": 3
   },
   "file_extension": ".py",
   "mimetype": "text/x-python",
   "name": "python",
   "nbconvert_exporter": "python",
   "pygments_lexer": "ipython3",
   "version": "3.10.12"
  }
 },
 "nbformat": 4,
 "nbformat_minor": 2
}
