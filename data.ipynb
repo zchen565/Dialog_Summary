{
 "cells": [
  {
   "cell_type": "code",
   "execution_count": 2,
   "metadata": {},
   "outputs": [
    {
     "name": "stderr",
     "output_type": "stream",
     "text": [
      "Downloading readme: 100%|██████████| 4.65k/4.65k [00:00<00:00, 4.99MB/s]\n",
      "Downloading data: 100%|██████████| 11.3M/11.3M [00:01<00:00, 9.84MB/s]\n",
      "Downloading data: 100%|██████████| 442k/442k [00:00<00:00, 5.14MB/s]]\n",
      "Downloading data: 100%|██████████| 1.35M/1.35M [00:00<00:00, 12.7MB/s]\n",
      "Downloading data files: 100%|██████████| 3/3 [00:01<00:00,  2.21it/s]\n",
      "Extracting data files: 100%|██████████| 3/3 [00:00<00:00, 2454.72it/s]\n",
      "Generating train split: 12460 examples [00:00, 101325.83 examples/s]\n",
      "Generating validation split: 500 examples [00:00, 66256.54 examples/s]\n",
      "Generating test split: 1500 examples [00:00, 123764.72 examples/s]\n"
     ]
    }
   ],
   "source": [
    "from datasets import load_dataset\n",
    "\n",
    "dialogsum = load_dataset(\"knkarthick/dialogsum\")"
   ]
  },
  {
   "cell_type": "code",
   "execution_count": 8,
   "metadata": {},
   "outputs": [
    {
     "data": {
      "text/plain": [
       "\"#Person1#: Hi, Mr. Smith. I'm Doctor Hawkins. Why are you here today?\\n#Person2#: I found it would be a good idea to get a check-up.\\n#Person1#: Yes, well, you haven't had one for 5 years. You should have one every year.\\n#Person2#: I know. I figure as long as there is nothing wrong, why go see the doctor?\\n#Person1#: Well, the best way to avoid serious illnesses is to find out about them early. So try to come at least once a year for your own good.\\n#Person2#: Ok.\\n#Person1#: Let me see here. Your eyes and ears look fine. Take a deep breath, please. Do you smoke, Mr. Smith?\\n#Person2#: Yes.\\n#Person1#: Smoking is the leading cause of lung cancer and heart disease, you know. You really should quit.\\n#Person2#: I've tried hundreds of times, but I just can't seem to kick the habit.\\n#Person1#: Well, we have classes and some medications that might help. I'll give you more information before you leave.\\n#Person2#: Ok, thanks doctor.\""
      ]
     },
     "execution_count": 8,
     "metadata": {},
     "output_type": "execute_result"
    }
   ],
   "source": [
    "dialogsum[\"train\"][0][\"dialogue\"]"
   ]
  },
  {
   "cell_type": "code",
   "execution_count": 11,
   "metadata": {},
   "outputs": [
    {
     "data": {
      "text/plain": [
       "dict_keys(['id', 'dialogue', 'summary', 'topic'])"
      ]
     },
     "execution_count": 11,
     "metadata": {},
     "output_type": "execute_result"
    }
   ],
   "source": [
    "dialogsum[\"train\"][0]"
   ]
  },
  {
   "cell_type": "code",
   "execution_count": 9,
   "metadata": {},
   "outputs": [
    {
     "name": "stdout",
     "output_type": "stream",
     "text": [
      "Total length of dialogs: 9198985\n",
      "Average length of a dialog: 738.2813001605136\n"
     ]
    }
   ],
   "source": [
    "dialog_lengths = [len(item[\"dialogue\"]) for item in dialogsum[\"train\"]]\n",
    "\n",
    "total_length = sum(dialog_lengths)\n",
    "\n",
    "average_length = total_length / len(dialog_lengths)\n",
    "\n",
    "print(f\"Total length of dialogs: {total_length}\")\n",
    "print(f\"Average length of a dialog: {average_length}\")"
   ]
  },
  {
   "cell_type": "code",
   "execution_count": 12,
   "metadata": {},
   "outputs": [
    {
     "name": "stdout",
     "output_type": "stream",
     "text": [
      "Total length of summary: 1753540\n",
      "Average length of a summary: 140.7335473515249\n"
     ]
    }
   ],
   "source": [
    "summary_lengths = [len(item[\"summary\"]) for item in dialogsum[\"train\"]]\n",
    "\n",
    "total_length = sum(summary_lengths)\n",
    "\n",
    "average_length = total_length / len(summary_lengths)\n",
    "\n",
    "print(f\"Total length of summary: {total_length}\")\n",
    "print(f\"Average length of a summary: {average_length}\")"
   ]
  },
  {
   "cell_type": "code",
   "execution_count": 14,
   "metadata": {},
   "outputs": [
    {
     "name": "stderr",
     "output_type": "stream",
     "text": [
      "Downloading data: 100%|██████████| 2.94M/2.94M [00:00<00:00, 22.0MB/s]\n",
      "Generating train split: 100%|██████████| 14732/14732 [00:00<00:00, 21500.14 examples/s]\n",
      "Generating test split: 100%|██████████| 819/819 [00:00<00:00, 3594.76 examples/s]\n",
      "Generating validation split: 100%|██████████| 818/818 [00:00<00:00, 3204.55 examples/s]\n"
     ]
    }
   ],
   "source": [
    "samsum = load_dataset(\"samsum\")"
   ]
  },
  {
   "cell_type": "code",
   "execution_count": 16,
   "metadata": {},
   "outputs": [
    {
     "name": "stdout",
     "output_type": "stream",
     "text": [
      "Total length of dialogs: 7530757\n",
      "Average length of a dialog: 511.18361390171054\n",
      "Total length of summary: 1622504\n",
      "Average length of a summary: 110.13467282106978\n"
     ]
    }
   ],
   "source": [
    "\n",
    "dialog_lengths = [len(item[\"dialogue\"]) for item in samsum[\"train\"]]\n",
    "\n",
    "total_length = sum(dialog_lengths)\n",
    "\n",
    "average_length = total_length / len(dialog_lengths)\n",
    "\n",
    "print(f\"Total length of dialogs: {total_length}\")\n",
    "print(f\"Average length of a dialog: {average_length}\")\n",
    "summary_lengths = [len(item[\"summary\"]) for item in samsum[\"train\"]]\n",
    "\n",
    "total_length = sum(summary_lengths)\n",
    "\n",
    "average_length = total_length / len(summary_lengths)\n",
    "\n",
    "print(f\"Total length of summary: {total_length}\")\n",
    "print(f\"Average length of a summary: {average_length}\")"
   ]
  }
 ],
 "metadata": {
  "kernelspec": {
   "display_name": "Python 3",
   "language": "python",
   "name": "python3"
  },
  "language_info": {
   "codemirror_mode": {
    "name": "ipython",
    "version": 3
   },
   "file_extension": ".py",
   "mimetype": "text/x-python",
   "name": "python",
   "nbconvert_exporter": "python",
   "pygments_lexer": "ipython3",
   "version": "3.10.12"
  }
 },
 "nbformat": 4,
 "nbformat_minor": 2
}
