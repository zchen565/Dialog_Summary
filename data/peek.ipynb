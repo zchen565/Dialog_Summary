{
 "cells": [
  {
   "cell_type": "code",
   "execution_count": 1,
   "metadata": {},
   "outputs": [],
   "source": [
    "import json"
   ]
  },
  {
   "cell_type": "code",
   "execution_count": 2,
   "metadata": {},
   "outputs": [],
   "source": [
    "with open(\"COMET_data/comet/dialogue/dialogsum/comet_train.json\") as f:\n",
    "    train_diag = json.load(f)"
   ]
  },
  {
   "cell_type": "code",
   "execution_count": 3,
   "metadata": {},
   "outputs": [
    {
     "data": {
      "text/plain": [
       "26"
      ]
     },
     "execution_count": 3,
     "metadata": {},
     "output_type": "execute_result"
    }
   ],
   "source": [
    "len(train_diag[\"train_0\"])"
   ]
  },
  {
   "cell_type": "code",
   "execution_count": 4,
   "metadata": {},
   "outputs": [],
   "source": [
    "with open(\"COMET_data/comet/summary/dialogsum/comet_train_w.json\") as f:\n",
    "    train_sum = json.load(f)"
   ]
  },
  {
   "cell_type": "code",
   "execution_count": 5,
   "metadata": {},
   "outputs": [
    {
     "data": {
      "text/plain": [
       "[{'sentence': \"Mr. Smith's getting a check-up, and Doctor Hawkins advises him to have one every year.\",\n",
       "  'HinderedBy': [\" The doctor's office is closed for the day\",\n",
       "   \" The doctor's office is closed for the holidays\",\n",
       "   \" The doctor's office is closed today.\",\n",
       "   \" The doctor's office is closed.\",\n",
       "   \" The doctor's office is closed today\"],\n",
       "  'isAfter': [' PersonX goes to the doctor for a checkup',\n",
       "   ' PersonX goes to the doctor for a check up',\n",
       "   \" PersonX goes to the doctor's office\",\n",
       "   ' PersonX goes to the doctor',\n",
       "   ' PersonX goes to see the doctor'],\n",
       "  'isBefore': [' Dr. Hawkins tells him to go to the doctor',\n",
       "   ' Dr. Hawkins gives him a prescription for medicine.',\n",
       "   ' Dr. Hawkins gives him a prescription for medication.',\n",
       "   ' Dr. Hawkins gives him a prescription for medicine',\n",
       "   ' Dr. Hawkins gives him a prescription for medication'],\n",
       "  'xEffect': [' gets a checkup',\n",
       "   ' gets a check up',\n",
       "   ' gets checked out',\n",
       "   ' gets a prescription',\n",
       "   ' none'],\n",
       "  'xNeed': [' to go to the doctor',\n",
       "   \" go to doctor's office\",\n",
       "   ' go to the doctor',\n",
       "   ' to go to a doctor',\n",
       "   ' to go to doctor']},\n",
       " {'sentence': \"Hawkins'll give some information about their classes and medications to help Mr. Smith quit smoking.\",\n",
       "  'HinderedBy': [' they need to quit smoking.',\n",
       "   ' they need to learn about it',\n",
       "   ' they need to quit smoking',\n",
       "   ' they need to quit',\n",
       "   ' they need help'],\n",
       "  'isAfter': [' PersonY asks for help',\n",
       "   ' PersonX asks for help',\n",
       "   ' PersonY asks for information',\n",
       "   ' PersonY asks questions',\n",
       "   ' doctor'],\n",
       "  'isBefore': [' PersonY asks about the medication',\n",
       "   ' PersonY asks for help',\n",
       "   ' PersonY asks for information',\n",
       "   ' PersonY asks questions',\n",
       "   ' none'],\n",
       "  'xEffect': [' gets asked questions',\n",
       "   ' gets asked for help',\n",
       "   ' is asked to help',\n",
       "   ' gets asked to help',\n",
       "   ' gets a raise'],\n",
       "  'xNeed': [' to talk to them',\n",
       "   ' to be a doctor',\n",
       "   ' to talk to people',\n",
       "   ' to talk to someone',\n",
       "   ' none']}]"
      ]
     },
     "execution_count": 5,
     "metadata": {},
     "output_type": "execute_result"
    }
   ],
   "source": [
    "train_sum[\"train_0\"]"
   ]
  },
  {
   "cell_type": "code",
   "execution_count": 15,
   "metadata": {},
   "outputs": [
    {
     "name": "stdout",
     "output_type": "stream",
     "text": [
      "PARACOMET sentence-transformer\n",
      "PARACOMET sentence-transformer\n",
      "PARACOMET sentence-transformer\n",
      "12460\n"
     ]
    }
   ],
   "source": [
    "from dataset import DialogsumDataset_total\n",
    "from transformers import AutoTokenizer\n",
    "# args \n",
    "# encoder_max_len -1024\n",
    "# deconder_max_len -100\n",
    "# \n",
    "# use_paracomet -False\n",
    "# relation -xReason\n",
    "# supervision_relation -isAfter\n",
    "# use_sentence_transformer -True\n",
    "\n",
    "temp_tokenizer = AutoTokenizer.from_pretrained('facebook/bart-large')\n",
    "\n",
    "# total_dataset = DialogsumDataset_total( \\\n",
    "#     args.encoder_max_len, \\\n",
    "#     args.decoder_max_len, \\\n",
    "#     tokenizer, \\\n",
    "#     extra_context=True, \\\n",
    "#     paracomet=args.use_paracomet, \\\n",
    "#     relation=args.relation, \\\n",
    "#     supervision_relation=args.supervision_relation, \\\n",
    "#     sentence_transformer=args.use_sentence_transformer, \\\n",
    "#     roberta=args.use_roberta)\n",
    "total_dataset = DialogsumDataset_total( \\\n",
    "    1024, \\\n",
    "    100, \\\n",
    "    temp_tokenizer, \\\n",
    "    extra_context=True, \\\n",
    "    paracomet=True, \\\n",
    "    relation=\"xReason\", \\\n",
    "    supervision_relation=\"isAfter\", \\\n",
    "    sentence_transformer=True, \\\n",
    "    roberta=False)\n",
    "train_dataset = total_dataset.getTrainData()\n",
    "eval_dataset = total_dataset.getEvalData()\n",
    "test_dataset = total_dataset.getTestData()\n",
    "\n",
    "\n"
   ]
  },
  {
   "cell_type": "code",
   "execution_count": 17,
   "metadata": {},
   "outputs": [
    {
     "data": {
      "text/plain": [
       "500"
      ]
     },
     "execution_count": 17,
     "metadata": {},
     "output_type": "execute_result"
    }
   ],
   "source": [
    "len(eval_dataset)\n"
   ]
  },
  {
   "cell_type": "code",
   "execution_count": 10,
   "metadata": {},
   "outputs": [
    {
     "name": "stdout",
     "output_type": "stream",
     "text": [
      "PARACOMET sentence-transformer\n",
      "PARACOMET sentence-transformer\n"
     ]
    }
   ],
   "source": [
    "from dataset import DialogsumDataset\n",
    "from transformers import AutoTokenizer\n",
    "temp_tokenizer = AutoTokenizer.from_pretrained('facebook/bart-large')\n",
    "train_sick = DialogsumDataset(1024, 100, 'train',temp_tokenizer,True, \\\n",
    "    True, \\\n",
    "    paracomet=True, relation='xReason', roberta=False,supervision_relation='isAfter', sentence_transformer=True)\n",
    "\n",
    "test_sick = DialogsumDataset(1024, 100, '',temp_tokenizer,True, \\\n",
    "    True, \\\n",
    "    paracomet=True, relation='xReason', roberta=False,supervision_relation='isAfter', sentence_transformer=True)"
   ]
  },
  {
   "cell_type": "code",
   "execution_count": 5,
   "metadata": {},
   "outputs": [
    {
     "name": "stdout",
     "output_type": "stream",
     "text": [
      "#Person1# said \"We're supposed to check in at the Air China's counter 30 minutes before take-off, Joe.\"\n",
      "<I> to wait for the plane. </I>\n",
      "#Person2# said \"Yes, I know.\"\n",
      "<I> personx is thanked. </I>\n",
      "#Person2# said \"The boarding time on the ticket says 17:05, and now it's 16:15.\"\n",
      "<I> to know the time. </I>\n",
      "#Person2# said \"I guess we have plenty of time.\"\n",
      "<I> personx is late. </I>\n",
      "#Person1# said \"Do we need to show our ID cards when checking in?\"\n",
      "<I> to show their ID card. </I>\n",
      "#Person2# said \"Yes.\"\n",
      "<I> personx says yes. </I>\n",
      "#Person2# said \"It's essential.\"\n",
      "<I> to thank personx for their help. </I>\n",
      "#Person1# said \"What about our luggage?\"\n",
      "<I> to take the luggage. </I>\n",
      "#Person2# said \"We can check it and hand carry the small bags.\"\n",
      "<I> to check the luggage. </I>\n",
      "#Person2# said \"And we have to open each for inspection.\"\n",
      "<I> to open each for inspection. </I>\n",
      "#Person1# said \"Are they going to frisk all the passengers?\"\n",
      "<I> personx gets a ticket. </I>\n",
      "#Person2# said \"I think so.\"\n",
      "<I> personx thinks. </I>\n",
      "#Person2# said \"We certainly don't want a hijack to happen on the plane today.\"\n",
      "<I> personx is asked to leave. </I>\n",
      "\n"
     ]
    }
   ],
   "source": [
    "print(train_sick[21])"
   ]
  },
  {
   "cell_type": "code",
   "execution_count": 20,
   "metadata": {},
   "outputs": [
    {
     "data": {
      "text/plain": [
       "'#Person1# said \"Ms. Dawson, I need you to take a dictation for me.\"\\n<I> personx is reprimanded. </I>\\n#Person2# said \"Yes, sir...\"\\n<I> personx says yes. </I>\\n#Person1# said \"This should go out as an intra-office memorandum to all employees by this afternoon.\"\\n<I> to leave the office. </I>\\n#Person1# said \"Are you ready?\"\\n<I> personx is thanked. </I>\\n#Person2# said \"Yes, sir.\"\\n<I> personx is thanked. </I>\\n#Person2# said \"Go ahead.\"\\n<I> personx is thanked. </I>\\n#Person1# said \"Attention all staff...\"\\n<I> person x gets fired. </I>\\n#Person1# said \"Effective immediately, all office communications are restricted to email correspondence and official memos.\"\\n<I> to read the email. </I>\\n#Person1# said \"The use of Instant Message programs by employees during working hours is strictly prohibited.\"\\n<I> to keep employees safe. </I>\\n#Person2# said \"Sir, does this apply to intra-office communications only?\"\\n<I> personx is reprimanded. </I>\\n#Person2# said \"Or will it also restrict external communications?\"\\n<I> to communicate. </I>\\n#Person1# said \"It should apply to all communications, not only in this office between employees, but also any outside communications.\"\\n<I> to communicate. </I>\\n#Person2# said \"But sir, many employees use Instant Messaging to communicate with their clients.\"\\n<I> to communicate with clients. </I>\\n#Person1# said \"They will just have to change their communication methods.\"\\n<I> to change their communication methods. </I>\\n#Person1# said \"I don\\'t want any - one using Instant Messaging in this office.\"\\n<I> personx is avoided. </I>\\n#Person1# said \"It wastes too much time!\"\\n<I> to spend too much time. </I>\\n#Person1# said \"Now, please continue with the memo.\"\\n<I> to read the memo. </I>\\n#Person1# said \"Where were we?\"\\n<I> to know where we are. </I>\\n#Person2# said \"This applies to internal and external communications.\"\\n<I> to inform. </I>\\n#Person1# said \"Yes.\"\\n<I> personx is thanked. </I>\\n#Person1# said \"Any employee who persists in using Instant Messaging will first receive a warning and be placed on probation.\"\\n<I> person x gets fired. </I>\\n#Person1# said \"At second offense, the employee will face termination.\"\\n<I> person x gets fired. </I>\\n#Person1# said \"Any questions regarding this new policy may be directed to department heads.\"\\n<I> to file a complaint. </I>\\n#Person2# said \"Is that all?\"\\n<I> personx answers. </I>\\n#Person1# said \"Yes.\"\\n<I> personx answers. </I>\\n#Person1# said \"Please get this memo typed up and distributed to all employees before 4 pm.\"\\n<I> to write the memo. </I>\\n'"
      ]
     },
     "execution_count": 20,
     "metadata": {},
     "output_type": "execute_result"
    }
   ],
   "source": [
    "test_sick[0]"
   ]
  },
  {
   "cell_type": "code",
   "execution_count": 26,
   "metadata": {},
   "outputs": [],
   "source": [
    "import json\n",
    "final_train = []\n",
    "for i in range(len(train_sick)):\n",
    "    final_train.append(train_sick[i])\n",
    "with open(\"train_sick.json\", \"w\", encoding=\"utf8\") as file:\n",
    "    json.dump(final_train, file)"
   ]
  },
  {
   "cell_type": "code",
   "execution_count": 27,
   "metadata": {},
   "outputs": [],
   "source": [
    "with open(\"train_sick.json\") as f:\n",
    "    d = json.load(f)"
   ]
  },
  {
   "cell_type": "code",
   "execution_count": 32,
   "metadata": {},
   "outputs": [],
   "source": [
    "import json\n",
    "final_test = []\n",
    "for i in range(len(test_sick)):\n",
    "    final_test.append(test_sick[i])\n",
    "repeated_list = [s for s in final_test for _ in range(3)]\n",
    "\n",
    "with open(\"test_sick.json\", \"w\") as file:\n",
    "    json.dump(repeated_list, file)"
   ]
  }
 ],
 "metadata": {
  "kernelspec": {
   "display_name": "Python 3",
   "language": "python",
   "name": "python3"
  },
  "language_info": {
   "codemirror_mode": {
    "name": "ipython",
    "version": 3
   },
   "file_extension": ".py",
   "mimetype": "text/x-python",
   "name": "python",
   "nbconvert_exporter": "python",
   "pygments_lexer": "ipython3",
   "version": "3.10.12"
  }
 },
 "nbformat": 4,
 "nbformat_minor": 2
}
